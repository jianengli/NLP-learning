{
 "cells": [
  {
   "cell_type": "markdown",
   "metadata": {},
   "source": [
    "## Assigment 9\n",
    "### 1.\t思考在自然语言处理中如何发掘模型的可解释性"
   ]
  },
  {
   "cell_type": "markdown",
   "metadata": {},
   "source": [
    "可以分为两类方法：\n",
    "\n",
    "1. 建模前：选用可解释性模型，如：决策树模型、线性回归、逻辑回归、广义线性回归、广义加性模型、贝叶斯实例模型等\n",
    "2. 建模后：使用可解释性方法，主要是针对具有黑箱性质的深度学习模型而言的，主要分为以下几类的工作：隐层分析方法、 模拟/代理模型、敏感性分析方法\n",
    "\n",
    "这些方法包括：\n",
    "1. LIME：通过局部线性逼近解释模型预测的方法（https://arxiv.org/abs/1602.04938）\n",
    "2. 激活最大化：了解哪种输入模式产生最大的模型响应\n",
    "（https://pdfs.semanticscholar.org/65d9/94fb778a8d9e0f632659fb33a082949a50d3.pdf）\n",
    "3. 特征可视化：（https://distill.pub/2017/feature-visualization/）\n",
    "4. 将DNN层嵌入到低维可解释的空间中：\n",
    "（http://www.interpretable-ml.org/nips2017workshop/papers/04.pdf）\n",
    "5. 采用认知心理学的方法：（https://deepmind.com/blog/cognitive-psychology/）"
   ]
  },
  {
   "cell_type": "markdown",
   "metadata": {},
   "source": [
    "### 2.在Seq2Seq和注意力机制中如何可视化模型细节\n",
    "可视化神经机器翻译模型（基于注意力机制的Seq2seq模型）\n",
    "https://blog.csdn.net/czp_374/article/details/88711574"
   ]
  },
  {
   "cell_type": "markdown",
   "metadata": {},
   "source": [
    "### 3.\t对抗样本能否运用到自然语言处理模型中"
   ]
  },
  {
   "cell_type": "markdown",
   "metadata": {},
   "source": [
    "能。\n",
    "\n",
    "当前提出的许多自然语言处理模型并不能够反映文本的多样特征。因此，许多研究者认为应该开辟新的研究方法，特别是利用近几年较为流行的对抗样本生成和防御的相关研究方法。\n",
    "\n",
    "使用对抗样本生成和防御的自然语言处理研究可以基本概括为以下三种：1. 用未察觉的扰动迷惑模型，并评价模型在这种情况下的表现；2. 有意的改变深度神经网络的输出；3. 检测深度神经网络是否过于敏感或过于稳定，并寻找防御攻击的方法。"
   ]
  },
  {
   "cell_type": "markdown",
   "metadata": {},
   "source": [
    "### 4. 复现Kaggle心脏病数据集冠军kernel，理解所用的模型可解释性技巧"
   ]
  },
  {
   "cell_type": "markdown",
   "metadata": {},
   "source": [
    "https://github.com/jianengli/NLP-learning/blob/master/Lab10/what-causes-heart-disease-explaining-the-model.ipynb"
   ]
  },
  {
   "cell_type": "code",
   "execution_count": null,
   "metadata": {},
   "outputs": [],
   "source": []
  }
 ],
 "metadata": {
  "kernelspec": {
   "display_name": "Python 3",
   "language": "python",
   "name": "python3"
  },
  "language_info": {
   "codemirror_mode": {
    "name": "ipython",
    "version": 3
   },
   "file_extension": ".py",
   "mimetype": "text/x-python",
   "name": "python",
   "nbconvert_exporter": "python",
   "pygments_lexer": "ipython3",
   "version": "3.8.0"
  }
 },
 "nbformat": 4,
 "nbformat_minor": 2
}
